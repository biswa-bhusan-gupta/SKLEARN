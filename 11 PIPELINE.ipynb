{
 "cells": [
  {
   "cell_type": "code",
   "execution_count": 1,
   "metadata": {},
   "outputs": [],
   "source": [
    "import pandas as pd\n",
    "import numpy as np\n",
    "import matplotlib.pyplot as plt\n",
    "%matplotlib inline"
   ]
  },
  {
   "cell_type": "code",
   "execution_count": 2,
   "metadata": {},
   "outputs": [],
   "source": [
    "from sklearn.compose import ColumnTransformer\n",
    "from sklearn.pipeline import Pipeline\n",
    "from sklearn.impute import SimpleImputer\n",
    "from sklearn.preprocessing import OneHotEncoder"
   ]
  },
  {
   "cell_type": "code",
   "execution_count": 3,
   "metadata": {},
   "outputs": [],
   "source": [
    "from sklearn.ensemble import RandomForestRegressor\n",
    "from sklearn.linear_model import LinearRegression\n",
    "from sklearn.model_selection import train_test_split\n",
    "from sklearn.metrics import r2_score,mean_squared_error,mean_absolute_error"
   ]
  },
  {
   "cell_type": "code",
   "execution_count": 4,
   "metadata": {},
   "outputs": [],
   "source": [
    "Data=pd.read_csv('Car_Sales_Extended_Missing_Data.csv')"
   ]
  },
  {
   "cell_type": "code",
   "execution_count": 5,
   "metadata": {},
   "outputs": [],
   "source": [
    "Data.dropna(subset=['Price'],inplace=True)"
   ]
  },
  {
   "cell_type": "code",
   "execution_count": 6,
   "metadata": {},
   "outputs": [
    {
     "data": {
      "text/html": [
       "<div>\n",
       "<style scoped>\n",
       "    .dataframe tbody tr th:only-of-type {\n",
       "        vertical-align: middle;\n",
       "    }\n",
       "\n",
       "    .dataframe tbody tr th {\n",
       "        vertical-align: top;\n",
       "    }\n",
       "\n",
       "    .dataframe thead th {\n",
       "        text-align: right;\n",
       "    }\n",
       "</style>\n",
       "<table border=\"1\" class=\"dataframe\">\n",
       "  <thead>\n",
       "    <tr style=\"text-align: right;\">\n",
       "      <th></th>\n",
       "      <th>Make</th>\n",
       "      <th>Colour</th>\n",
       "      <th>Odometer (KM)</th>\n",
       "      <th>Doors</th>\n",
       "      <th>Price</th>\n",
       "    </tr>\n",
       "  </thead>\n",
       "  <tbody>\n",
       "    <tr>\n",
       "      <th>0</th>\n",
       "      <td>Honda</td>\n",
       "      <td>White</td>\n",
       "      <td>35431.0</td>\n",
       "      <td>4.0</td>\n",
       "      <td>15323.0</td>\n",
       "    </tr>\n",
       "    <tr>\n",
       "      <th>1</th>\n",
       "      <td>BMW</td>\n",
       "      <td>Blue</td>\n",
       "      <td>192714.0</td>\n",
       "      <td>5.0</td>\n",
       "      <td>19943.0</td>\n",
       "    </tr>\n",
       "    <tr>\n",
       "      <th>2</th>\n",
       "      <td>Honda</td>\n",
       "      <td>White</td>\n",
       "      <td>84714.0</td>\n",
       "      <td>4.0</td>\n",
       "      <td>28343.0</td>\n",
       "    </tr>\n",
       "    <tr>\n",
       "      <th>3</th>\n",
       "      <td>Toyota</td>\n",
       "      <td>White</td>\n",
       "      <td>154365.0</td>\n",
       "      <td>4.0</td>\n",
       "      <td>13434.0</td>\n",
       "    </tr>\n",
       "    <tr>\n",
       "      <th>4</th>\n",
       "      <td>Nissan</td>\n",
       "      <td>Blue</td>\n",
       "      <td>181577.0</td>\n",
       "      <td>3.0</td>\n",
       "      <td>14043.0</td>\n",
       "    </tr>\n",
       "    <tr>\n",
       "      <th>...</th>\n",
       "      <td>...</td>\n",
       "      <td>...</td>\n",
       "      <td>...</td>\n",
       "      <td>...</td>\n",
       "      <td>...</td>\n",
       "    </tr>\n",
       "    <tr>\n",
       "      <th>995</th>\n",
       "      <td>Toyota</td>\n",
       "      <td>Black</td>\n",
       "      <td>35820.0</td>\n",
       "      <td>4.0</td>\n",
       "      <td>32042.0</td>\n",
       "    </tr>\n",
       "    <tr>\n",
       "      <th>996</th>\n",
       "      <td>NaN</td>\n",
       "      <td>White</td>\n",
       "      <td>155144.0</td>\n",
       "      <td>3.0</td>\n",
       "      <td>5716.0</td>\n",
       "    </tr>\n",
       "    <tr>\n",
       "      <th>997</th>\n",
       "      <td>Nissan</td>\n",
       "      <td>Blue</td>\n",
       "      <td>66604.0</td>\n",
       "      <td>4.0</td>\n",
       "      <td>31570.0</td>\n",
       "    </tr>\n",
       "    <tr>\n",
       "      <th>998</th>\n",
       "      <td>Honda</td>\n",
       "      <td>White</td>\n",
       "      <td>215883.0</td>\n",
       "      <td>4.0</td>\n",
       "      <td>4001.0</td>\n",
       "    </tr>\n",
       "    <tr>\n",
       "      <th>999</th>\n",
       "      <td>Toyota</td>\n",
       "      <td>Blue</td>\n",
       "      <td>248360.0</td>\n",
       "      <td>4.0</td>\n",
       "      <td>12732.0</td>\n",
       "    </tr>\n",
       "  </tbody>\n",
       "</table>\n",
       "<p>950 rows × 5 columns</p>\n",
       "</div>"
      ],
      "text/plain": [
       "       Make Colour  Odometer (KM)  Doors    Price\n",
       "0     Honda  White        35431.0    4.0  15323.0\n",
       "1       BMW   Blue       192714.0    5.0  19943.0\n",
       "2     Honda  White        84714.0    4.0  28343.0\n",
       "3    Toyota  White       154365.0    4.0  13434.0\n",
       "4    Nissan   Blue       181577.0    3.0  14043.0\n",
       "..      ...    ...            ...    ...      ...\n",
       "995  Toyota  Black        35820.0    4.0  32042.0\n",
       "996     NaN  White       155144.0    3.0   5716.0\n",
       "997  Nissan   Blue        66604.0    4.0  31570.0\n",
       "998   Honda  White       215883.0    4.0   4001.0\n",
       "999  Toyota   Blue       248360.0    4.0  12732.0\n",
       "\n",
       "[950 rows x 5 columns]"
      ]
     },
     "execution_count": 6,
     "metadata": {},
     "output_type": "execute_result"
    }
   ],
   "source": [
    "Data"
   ]
  },
  {
   "cell_type": "code",
   "execution_count": 7,
   "metadata": {},
   "outputs": [],
   "source": [
    "Categorical_Features=['Make','Colour']\n",
    "Categorical_Transform=Pipeline(steps=[\n",
    "     ('Imputer',SimpleImputer(strategy='constant',fill_value='missing')),\n",
    "     ('One_Hot_Encoder',OneHotEncoder(handle_unknown='ignore'))])"
   ]
  },
  {
   "cell_type": "code",
   "execution_count": 8,
   "metadata": {},
   "outputs": [
    {
     "data": {
      "text/plain": [
       "Pipeline(steps=[('Imputer',\n",
       "                 SimpleImputer(fill_value='missing', strategy='constant')),\n",
       "                ('One_Hot_Encoder', OneHotEncoder(handle_unknown='ignore'))])"
      ]
     },
     "execution_count": 8,
     "metadata": {},
     "output_type": "execute_result"
    }
   ],
   "source": [
    "Categorical_Transform"
   ]
  },
  {
   "cell_type": "code",
   "execution_count": 9,
   "metadata": {},
   "outputs": [],
   "source": [
    "Labelled_Features=['Doors']\n",
    "Labelled_Transform=Pipeline(steps=[\n",
    "     ('Imputer',SimpleImputer(strategy='constant',fill_value=4)),\n",
    "     ('One_Hot_Encoder',OneHotEncoder(handle_unknown='ignore'))])"
   ]
  },
  {
   "cell_type": "code",
   "execution_count": 10,
   "metadata": {},
   "outputs": [],
   "source": [
    "Numerical_Features=['Odometer (KM)']\n",
    "Numerical_Transform=Pipeline(steps=[\n",
    "     ('Imputer',SimpleImputer(strategy='mean'))])"
   ]
  },
  {
   "cell_type": "code",
   "execution_count": 11,
   "metadata": {},
   "outputs": [],
   "source": [
    "CT=ColumnTransformer([('Categorical',Categorical_Transform,Categorical_Features),\n",
    "                      ('Labelled',Labelled_Transform,Labelled_Features),\n",
    "                      ('Numerical',Numerical_Transform,Numerical_Features)])"
   ]
  },
  {
   "cell_type": "code",
   "execution_count": 12,
   "metadata": {},
   "outputs": [],
   "source": [
    "Model=Pipeline(steps=[('Preprocessor',CT),\n",
    "                      ('Model',RandomForestRegressor())])"
   ]
  },
  {
   "cell_type": "code",
   "execution_count": 13,
   "metadata": {},
   "outputs": [
    {
     "data": {
      "text/plain": [
       "Pipeline(steps=[('Preprocessor',\n",
       "                 ColumnTransformer(transformers=[('Categorical',\n",
       "                                                  Pipeline(steps=[('Imputer',\n",
       "                                                                   SimpleImputer(fill_value='missing',\n",
       "                                                                                 strategy='constant')),\n",
       "                                                                  ('One_Hot_Encoder',\n",
       "                                                                   OneHotEncoder(handle_unknown='ignore'))]),\n",
       "                                                  ['Make', 'Colour']),\n",
       "                                                 ('Labelled',\n",
       "                                                  Pipeline(steps=[('Imputer',\n",
       "                                                                   SimpleImputer(fill_value=4,\n",
       "                                                                                 strategy='constant')),\n",
       "                                                                  ('One_Hot_Encoder',\n",
       "                                                                   OneHotEncoder(handle_unknown='ignore'))]),\n",
       "                                                  ['Doors']),\n",
       "                                                 ('Numerical',\n",
       "                                                  Pipeline(steps=[('Imputer',\n",
       "                                                                   SimpleImputer())]),\n",
       "                                                  ['Odometer (KM)'])])),\n",
       "                ('Model', RandomForestRegressor())])"
      ]
     },
     "execution_count": 13,
     "metadata": {},
     "output_type": "execute_result"
    }
   ],
   "source": [
    "Model"
   ]
  },
  {
   "cell_type": "code",
   "execution_count": 14,
   "metadata": {},
   "outputs": [],
   "source": [
    "x=Data.drop('Price',axis=1)\n",
    "y=Data['Price']"
   ]
  },
  {
   "cell_type": "code",
   "execution_count": 15,
   "metadata": {},
   "outputs": [],
   "source": [
    "x_train,x_test,y_train,y_test=train_test_split(x,y,test_size=0.2,random_state=42)"
   ]
  },
  {
   "cell_type": "code",
   "execution_count": 16,
   "metadata": {},
   "outputs": [
    {
     "data": {
      "text/plain": [
       "Pipeline(steps=[('Preprocessor',\n",
       "                 ColumnTransformer(transformers=[('Categorical',\n",
       "                                                  Pipeline(steps=[('Imputer',\n",
       "                                                                   SimpleImputer(fill_value='missing',\n",
       "                                                                                 strategy='constant')),\n",
       "                                                                  ('One_Hot_Encoder',\n",
       "                                                                   OneHotEncoder(handle_unknown='ignore'))]),\n",
       "                                                  ['Make', 'Colour']),\n",
       "                                                 ('Labelled',\n",
       "                                                  Pipeline(steps=[('Imputer',\n",
       "                                                                   SimpleImputer(fill_value=4,\n",
       "                                                                                 strategy='constant')),\n",
       "                                                                  ('One_Hot_Encoder',\n",
       "                                                                   OneHotEncoder(handle_unknown='ignore'))]),\n",
       "                                                  ['Doors']),\n",
       "                                                 ('Numerical',\n",
       "                                                  Pipeline(steps=[('Imputer',\n",
       "                                                                   SimpleImputer())]),\n",
       "                                                  ['Odometer (KM)'])])),\n",
       "                ('Model', RandomForestRegressor())])"
      ]
     },
     "execution_count": 16,
     "metadata": {},
     "output_type": "execute_result"
    }
   ],
   "source": [
    "Model.fit(x_train,y_train)"
   ]
  },
  {
   "cell_type": "code",
   "execution_count": 17,
   "metadata": {},
   "outputs": [],
   "source": [
    "y_pred=Model.predict(x_test)"
   ]
  },
  {
   "cell_type": "code",
   "execution_count": 18,
   "metadata": {},
   "outputs": [
    {
     "data": {
      "text/plain": [
       "array([17574.11      , 21604.88      , 11972.66      ,  9442.71      ,\n",
       "       12049.02      , 10940.07      , 16299.57      ,  9573.39      ,\n",
       "       18182.46      , 16301.94779523,  8356.18      , 15929.85      ,\n",
       "        8764.78      , 10330.06      , 13053.59      , 20068.56      ,\n",
       "       16716.7       ,  7135.7       , 11539.8       , 14549.78      ,\n",
       "       12533.8       , 17824.92125   , 18655.01      , 27574.59      ,\n",
       "        9271.88816667, 21494.41      , 13327.56      ,  7448.1       ,\n",
       "       20669.28      , 19357.59      , 12011.88      , 16117.38      ,\n",
       "       10539.26      , 11318.22663095, 29122.96      , 16809.4       ,\n",
       "       12220.7       , 12278.33      , 21309.85      ,  9530.08      ,\n",
       "       16333.33      , 20461.67      , 25543.58      , 16185.39      ,\n",
       "       14127.54828571, 12106.92      , 14866.2       ,  9157.07      ,\n",
       "       15468.92      , 13963.52      , 11278.88      , 20616.07      ,\n",
       "       15688.12      ,  5822.73      , 13730.91      ,  9158.22      ,\n",
       "       16118.96291667, 11872.29      , 10934.23483333, 14657.86      ,\n",
       "       13369.34      , 22033.14000216, 12121.21      , 17366.68      ,\n",
       "       24397.45      , 25791.96      , 11242.69      , 16686.9       ,\n",
       "       17356.17      , 18016.41      , 14314.18      , 19068.04      ,\n",
       "       19652.33      , 15838.025     , 12924.24      ,  7606.21      ,\n",
       "        9792.9       ,  9466.82178571, 29446.89      , 11343.18      ,\n",
       "       15696.28      , 14155.09      , 12306.50933333, 13382.47      ,\n",
       "        8419.33      , 19068.83      ,  8498.15      , 19704.72      ,\n",
       "       16459.24      , 12011.88      , 10237.49495238,  7363.43      ,\n",
       "        9770.31      ,  8735.57      , 18520.26      ,  5818.37      ,\n",
       "       16301.94779523, 11595.77      ,  8485.64      , 24348.7       ,\n",
       "       18949.4625    , 12660.22      , 25092.28761905, 22091.55      ,\n",
       "       39959.57      , 11704.12      ,  8591.56      , 12508.30428571,\n",
       "       15633.6       , 16774.15      , 24223.063     ,  7737.19      ,\n",
       "        7111.14      ,  8533.62      , 18481.20169048,  9706.7175    ,\n",
       "        5974.63      , 20880.6       , 11852.23      , 29100.63      ,\n",
       "       23573.96      , 12250.        , 25442.3       , 14949.5       ,\n",
       "       13063.47      , 15882.03      , 18227.8       , 12603.06      ,\n",
       "       12914.28      , 18355.29      , 22837.26      , 12600.68      ,\n",
       "       21097.94      , 25932.12      , 12691.84      ,  9080.43      ,\n",
       "       16396.64      , 12417.56      , 27930.93      , 18078.54      ,\n",
       "       11738.01      , 16455.23      , 27595.33      , 35596.54      ,\n",
       "       15710.49      , 12937.91      , 14619.46333333,  9732.16      ,\n",
       "       19360.61      , 15320.02      , 21699.38      , 19045.01      ,\n",
       "       18559.99      ,  7206.99      , 15468.65      , 19470.9       ,\n",
       "       10934.23483333, 10081.41      , 11709.69      , 21314.35      ,\n",
       "       16103.33      , 16301.94779523, 16188.18      , 11344.39      ,\n",
       "       13138.07      , 23563.24      , 17901.96      , 13500.07      ,\n",
       "       17954.29      ,  9457.2675    , 20643.92      , 12471.52      ,\n",
       "       19610.88      , 11571.16      , 13358.46      , 18070.86      ,\n",
       "       22076.99      , 24763.72      , 47676.27      , 12657.25      ,\n",
       "       11689.55      , 12214.96      , 37226.86      , 18949.15      ,\n",
       "        8793.63      , 12890.69      , 10429.06      , 11965.23      ,\n",
       "       23787.54      , 19252.52      ])"
      ]
     },
     "execution_count": 18,
     "metadata": {},
     "output_type": "execute_result"
    }
   ],
   "source": [
    "y_pred"
   ]
  },
  {
   "cell_type": "code",
   "execution_count": 19,
   "metadata": {},
   "outputs": [
    {
     "data": {
      "text/plain": [
       "0.2155323398147022"
      ]
     },
     "execution_count": 19,
     "metadata": {},
     "output_type": "execute_result"
    }
   ],
   "source": [
    "Model.score(x_test,y_test)"
   ]
  },
  {
   "cell_type": "code",
   "execution_count": 20,
   "metadata": {},
   "outputs": [
    {
     "name": "stdout",
     "output_type": "stream",
     "text": [
      "R-Suared:0.2155323398147022\n",
      "MAE:5775.5477952369265\n",
      "MSE:52527713.70680046\n"
     ]
    }
   ],
   "source": [
    "print(f'R-Suared:{r2_score(y_test,y_pred)}')\n",
    "print(f'MAE:{mean_absolute_error(y_test,y_pred)}')\n",
    "print(f'MSE:{mean_squared_error(y_test,y_pred)}')"
   ]
  },
  {
   "cell_type": "code",
   "execution_count": null,
   "metadata": {},
   "outputs": [],
   "source": []
  }
 ],
 "metadata": {
  "kernelspec": {
   "display_name": "Python 3",
   "language": "python",
   "name": "python3"
  },
  "language_info": {
   "codemirror_mode": {
    "name": "ipython",
    "version": 3
   },
   "file_extension": ".py",
   "mimetype": "text/x-python",
   "name": "python",
   "nbconvert_exporter": "python",
   "pygments_lexer": "ipython3",
   "version": "3.7.6"
  }
 },
 "nbformat": 4,
 "nbformat_minor": 4
}
