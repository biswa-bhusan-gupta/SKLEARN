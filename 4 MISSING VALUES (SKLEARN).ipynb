{
 "cells": [
  {
   "cell_type": "code",
   "execution_count": 1,
   "metadata": {},
   "outputs": [],
   "source": [
    "import pandas as pd\n",
    "import numpy as np\n",
    "import matplotlib.pyplot as plt"
   ]
  },
  {
   "cell_type": "code",
   "execution_count": 2,
   "metadata": {},
   "outputs": [],
   "source": [
    "Data=pd.read_csv('Car_Sales_Extended_Missing_Data.csv')"
   ]
  },
  {
   "cell_type": "code",
   "execution_count": 3,
   "metadata": {},
   "outputs": [
    {
     "data": {
      "text/html": [
       "<div>\n",
       "<style scoped>\n",
       "    .dataframe tbody tr th:only-of-type {\n",
       "        vertical-align: middle;\n",
       "    }\n",
       "\n",
       "    .dataframe tbody tr th {\n",
       "        vertical-align: top;\n",
       "    }\n",
       "\n",
       "    .dataframe thead th {\n",
       "        text-align: right;\n",
       "    }\n",
       "</style>\n",
       "<table border=\"1\" class=\"dataframe\">\n",
       "  <thead>\n",
       "    <tr style=\"text-align: right;\">\n",
       "      <th></th>\n",
       "      <th>Make</th>\n",
       "      <th>Colour</th>\n",
       "      <th>Odometer (KM)</th>\n",
       "      <th>Doors</th>\n",
       "      <th>Price</th>\n",
       "    </tr>\n",
       "  </thead>\n",
       "  <tbody>\n",
       "    <tr>\n",
       "      <th>0</th>\n",
       "      <td>Honda</td>\n",
       "      <td>White</td>\n",
       "      <td>35431.0</td>\n",
       "      <td>4.0</td>\n",
       "      <td>15323.0</td>\n",
       "    </tr>\n",
       "    <tr>\n",
       "      <th>1</th>\n",
       "      <td>BMW</td>\n",
       "      <td>Blue</td>\n",
       "      <td>192714.0</td>\n",
       "      <td>5.0</td>\n",
       "      <td>19943.0</td>\n",
       "    </tr>\n",
       "    <tr>\n",
       "      <th>2</th>\n",
       "      <td>Honda</td>\n",
       "      <td>White</td>\n",
       "      <td>84714.0</td>\n",
       "      <td>4.0</td>\n",
       "      <td>28343.0</td>\n",
       "    </tr>\n",
       "    <tr>\n",
       "      <th>3</th>\n",
       "      <td>Toyota</td>\n",
       "      <td>White</td>\n",
       "      <td>154365.0</td>\n",
       "      <td>4.0</td>\n",
       "      <td>13434.0</td>\n",
       "    </tr>\n",
       "    <tr>\n",
       "      <th>4</th>\n",
       "      <td>Nissan</td>\n",
       "      <td>Blue</td>\n",
       "      <td>181577.0</td>\n",
       "      <td>3.0</td>\n",
       "      <td>14043.0</td>\n",
       "    </tr>\n",
       "  </tbody>\n",
       "</table>\n",
       "</div>"
      ],
      "text/plain": [
       "     Make Colour  Odometer (KM)  Doors    Price\n",
       "0   Honda  White        35431.0    4.0  15323.0\n",
       "1     BMW   Blue       192714.0    5.0  19943.0\n",
       "2   Honda  White        84714.0    4.0  28343.0\n",
       "3  Toyota  White       154365.0    4.0  13434.0\n",
       "4  Nissan   Blue       181577.0    3.0  14043.0"
      ]
     },
     "execution_count": 3,
     "metadata": {},
     "output_type": "execute_result"
    }
   ],
   "source": [
    "Data.head()"
   ]
  },
  {
   "cell_type": "code",
   "execution_count": 4,
   "metadata": {},
   "outputs": [
    {
     "data": {
      "text/plain": [
       "Make             49\n",
       "Colour           50\n",
       "Odometer (KM)    50\n",
       "Doors            50\n",
       "Price            50\n",
       "dtype: int64"
      ]
     },
     "execution_count": 4,
     "metadata": {},
     "output_type": "execute_result"
    }
   ],
   "source": [
    "Data.isna().sum()"
   ]
  },
  {
   "cell_type": "code",
   "execution_count": 5,
   "metadata": {},
   "outputs": [
    {
     "data": {
      "text/plain": [
       "Make             47\n",
       "Colour           46\n",
       "Odometer (KM)    48\n",
       "Doors            47\n",
       "Price             0\n",
       "dtype: int64"
      ]
     },
     "execution_count": 5,
     "metadata": {},
     "output_type": "execute_result"
    }
   ],
   "source": [
    "Data.dropna(subset=['Price'],inplace=True)\n",
    "Data.isna().sum()"
   ]
  },
  {
   "cell_type": "code",
   "execution_count": 6,
   "metadata": {},
   "outputs": [
    {
     "data": {
      "text/plain": [
       "950"
      ]
     },
     "execution_count": 6,
     "metadata": {},
     "output_type": "execute_result"
    }
   ],
   "source": [
    "len(Data)"
   ]
  },
  {
   "cell_type": "code",
   "execution_count": 7,
   "metadata": {},
   "outputs": [
    {
     "data": {
      "text/html": [
       "<div>\n",
       "<style scoped>\n",
       "    .dataframe tbody tr th:only-of-type {\n",
       "        vertical-align: middle;\n",
       "    }\n",
       "\n",
       "    .dataframe tbody tr th {\n",
       "        vertical-align: top;\n",
       "    }\n",
       "\n",
       "    .dataframe thead th {\n",
       "        text-align: right;\n",
       "    }\n",
       "</style>\n",
       "<table border=\"1\" class=\"dataframe\">\n",
       "  <thead>\n",
       "    <tr style=\"text-align: right;\">\n",
       "      <th></th>\n",
       "      <th>Make</th>\n",
       "      <th>Colour</th>\n",
       "      <th>Odometer (KM)</th>\n",
       "      <th>Doors</th>\n",
       "    </tr>\n",
       "  </thead>\n",
       "  <tbody>\n",
       "    <tr>\n",
       "      <th>0</th>\n",
       "      <td>Honda</td>\n",
       "      <td>White</td>\n",
       "      <td>35431.0</td>\n",
       "      <td>4.0</td>\n",
       "    </tr>\n",
       "    <tr>\n",
       "      <th>1</th>\n",
       "      <td>BMW</td>\n",
       "      <td>Blue</td>\n",
       "      <td>192714.0</td>\n",
       "      <td>5.0</td>\n",
       "    </tr>\n",
       "    <tr>\n",
       "      <th>2</th>\n",
       "      <td>Honda</td>\n",
       "      <td>White</td>\n",
       "      <td>84714.0</td>\n",
       "      <td>4.0</td>\n",
       "    </tr>\n",
       "    <tr>\n",
       "      <th>3</th>\n",
       "      <td>Toyota</td>\n",
       "      <td>White</td>\n",
       "      <td>154365.0</td>\n",
       "      <td>4.0</td>\n",
       "    </tr>\n",
       "    <tr>\n",
       "      <th>4</th>\n",
       "      <td>Nissan</td>\n",
       "      <td>Blue</td>\n",
       "      <td>181577.0</td>\n",
       "      <td>3.0</td>\n",
       "    </tr>\n",
       "    <tr>\n",
       "      <th>...</th>\n",
       "      <td>...</td>\n",
       "      <td>...</td>\n",
       "      <td>...</td>\n",
       "      <td>...</td>\n",
       "    </tr>\n",
       "    <tr>\n",
       "      <th>995</th>\n",
       "      <td>Toyota</td>\n",
       "      <td>Black</td>\n",
       "      <td>35820.0</td>\n",
       "      <td>4.0</td>\n",
       "    </tr>\n",
       "    <tr>\n",
       "      <th>996</th>\n",
       "      <td>NaN</td>\n",
       "      <td>White</td>\n",
       "      <td>155144.0</td>\n",
       "      <td>3.0</td>\n",
       "    </tr>\n",
       "    <tr>\n",
       "      <th>997</th>\n",
       "      <td>Nissan</td>\n",
       "      <td>Blue</td>\n",
       "      <td>66604.0</td>\n",
       "      <td>4.0</td>\n",
       "    </tr>\n",
       "    <tr>\n",
       "      <th>998</th>\n",
       "      <td>Honda</td>\n",
       "      <td>White</td>\n",
       "      <td>215883.0</td>\n",
       "      <td>4.0</td>\n",
       "    </tr>\n",
       "    <tr>\n",
       "      <th>999</th>\n",
       "      <td>Toyota</td>\n",
       "      <td>Blue</td>\n",
       "      <td>248360.0</td>\n",
       "      <td>4.0</td>\n",
       "    </tr>\n",
       "  </tbody>\n",
       "</table>\n",
       "<p>950 rows × 4 columns</p>\n",
       "</div>"
      ],
      "text/plain": [
       "       Make Colour  Odometer (KM)  Doors\n",
       "0     Honda  White        35431.0    4.0\n",
       "1       BMW   Blue       192714.0    5.0\n",
       "2     Honda  White        84714.0    4.0\n",
       "3    Toyota  White       154365.0    4.0\n",
       "4    Nissan   Blue       181577.0    3.0\n",
       "..      ...    ...            ...    ...\n",
       "995  Toyota  Black        35820.0    4.0\n",
       "996     NaN  White       155144.0    3.0\n",
       "997  Nissan   Blue        66604.0    4.0\n",
       "998   Honda  White       215883.0    4.0\n",
       "999  Toyota   Blue       248360.0    4.0\n",
       "\n",
       "[950 rows x 4 columns]"
      ]
     },
     "execution_count": 7,
     "metadata": {},
     "output_type": "execute_result"
    }
   ],
   "source": [
    "x=Data.drop('Price',axis=1)\n",
    "x"
   ]
  },
  {
   "cell_type": "code",
   "execution_count": 8,
   "metadata": {},
   "outputs": [
    {
     "data": {
      "text/plain": [
       "0      15323.0\n",
       "1      19943.0\n",
       "2      28343.0\n",
       "3      13434.0\n",
       "4      14043.0\n",
       "        ...   \n",
       "995    32042.0\n",
       "996     5716.0\n",
       "997    31570.0\n",
       "998     4001.0\n",
       "999    12732.0\n",
       "Name: Price, Length: 950, dtype: float64"
      ]
     },
     "execution_count": 8,
     "metadata": {},
     "output_type": "execute_result"
    }
   ],
   "source": [
    "y=Data['Price']\n",
    "y"
   ]
  },
  {
   "cell_type": "code",
   "execution_count": 9,
   "metadata": {},
   "outputs": [],
   "source": [
    "from sklearn.model_selection import train_test_split\n",
    "x_train,x_test,y_train,y_test=train_test_split(x,y,test_size=0.2,random_state=42)"
   ]
  },
  {
   "cell_type": "code",
   "execution_count": 10,
   "metadata": {},
   "outputs": [
    {
     "data": {
      "text/plain": [
       "Make             47\n",
       "Colour           46\n",
       "Odometer (KM)    48\n",
       "Doors            47\n",
       "dtype: int64"
      ]
     },
     "execution_count": 10,
     "metadata": {},
     "output_type": "execute_result"
    }
   ],
   "source": [
    "x.isna().sum()"
   ]
  },
  {
   "cell_type": "code",
   "execution_count": 11,
   "metadata": {},
   "outputs": [
    {
     "data": {
      "text/plain": [
       "0"
      ]
     },
     "execution_count": 11,
     "metadata": {},
     "output_type": "execute_result"
    }
   ],
   "source": [
    "y.isna().sum()"
   ]
  },
  {
   "cell_type": "code",
   "execution_count": 12,
   "metadata": {},
   "outputs": [],
   "source": [
    "from sklearn.impute import SimpleImputer\n",
    "from sklearn.compose import ColumnTransformer"
   ]
  },
  {
   "cell_type": "code",
   "execution_count": 13,
   "metadata": {},
   "outputs": [],
   "source": [
    "# IMPUTERS ARE JUST FILLING THE MISSING VALUES\n",
    "# KEEP THE STRATERGY AS CONSTANT AND FILL THE MISSING VALUES YOU WANT\n",
    "Categorical_Imputer=SimpleImputer(strategy='constant',fill_value='Missing')\n",
    "Labelled_Imputer=SimpleImputer(strategy='constant',fill_value=4)\n",
    "Numerical_Imputer=SimpleImputer(strategy='mean')"
   ]
  },
  {
   "cell_type": "code",
   "execution_count": 14,
   "metadata": {},
   "outputs": [],
   "source": [
    "Categorical_Features=['Make','Colour']\n",
    "Labelled_Features=['Doors']\n",
    "Numerical_Features=['Odometer (KM)']"
   ]
  },
  {
   "cell_type": "code",
   "execution_count": 15,
   "metadata": {},
   "outputs": [],
   "source": [
    "# COLUMN TRANSFORMER TAKES THE LISTS OF TRANSORMER WE WANT TO TRANSFORM\n",
    "CT=ColumnTransformer([('Categorical',Categorical_Imputer,Categorical_Features),('Labelled',Labelled_Imputer,Labelled_Features),('Numerical',Numerical_Imputer,Numerical_Features)])"
   ]
  },
  {
   "cell_type": "code",
   "execution_count": 16,
   "metadata": {},
   "outputs": [],
   "source": [
    "Filled_train=CT.fit_transform(x_train)\n",
    "Filled_test=CT.fit_transform(x_test)"
   ]
  },
  {
   "cell_type": "code",
   "execution_count": 17,
   "metadata": {},
   "outputs": [
    {
     "data": {
      "text/plain": [
       "array([['Honda', 'White', 4.0, 71934.0],\n",
       "       ['Toyota', 'Red', 4.0, 162665.0],\n",
       "       ['Honda', 'White', 4.0, 42844.0],\n",
       "       ...,\n",
       "       ['Toyota', 'White', 4.0, 196225.0],\n",
       "       ['Honda', 'Blue', 4.0, 133117.0],\n",
       "       ['Honda', 'Missing', 4.0, 150582.0]], dtype=object)"
      ]
     },
     "execution_count": 17,
     "metadata": {},
     "output_type": "execute_result"
    }
   ],
   "source": [
    "Filled_train"
   ]
  },
  {
   "cell_type": "code",
   "execution_count": 18,
   "metadata": {},
   "outputs": [
    {
     "data": {
      "text/plain": [
       "array([['Toyota', 'Blue', 4.0, 99761.0],\n",
       "       ['Toyota', 'Black', 4.0, 17975.0],\n",
       "       ['Honda', 'Blue', 4.0, 197664.0],\n",
       "       ['Nissan', 'Green', 4.0, 235589.0],\n",
       "       ['Honda', 'Black', 4.0, 231659.0],\n",
       "       ['Toyota', 'Blue', 4.0, 247601.0],\n",
       "       ['Toyota', 'Green', 4.0, 110078.0],\n",
       "       ['Missing', 'White', 4.0, 155383.0],\n",
       "       ['Nissan', 'White', 4.0, 26634.0],\n",
       "       ['Honda', 'White', 4.0, 133706.16853932585],\n",
       "       ['Honda', 'Green', 4.0, 238825.0],\n",
       "       ['Honda', 'Green', 4.0, 37606.0],\n",
       "       ['Toyota', 'Blue', 4.0, 230908.0],\n",
       "       ['Toyota', 'Red', 4.0, 159925.0],\n",
       "       ['Toyota', 'Blue', 4.0, 181466.0],\n",
       "       ['Toyota', 'Blue', 4.0, 140465.0],\n",
       "       ['Toyota', 'White', 4.0, 146307.0],\n",
       "       ['Toyota', 'Green', 4.0, 214179.0],\n",
       "       ['Honda', 'White', 4.0, 184869.0],\n",
       "       ['Toyota', 'Black', 4.0, 224986.0],\n",
       "       ['Nissan', 'White', 3.0, 176135.0],\n",
       "       ['Nissan', 'Red', 4.0, 133706.16853932585],\n",
       "       ['Toyota', 'Blue', 4.0, 112223.0],\n",
       "       ['BMW', 'Missing', 5.0, 206446.0],\n",
       "       ['Honda', 'Green', 4.0, 130075.0],\n",
       "       ['Nissan', 'Green', 4.0, 87701.0],\n",
       "       ['Honda', 'Red', 4.0, 16079.0],\n",
       "       ['Toyota', 'White', 4.0, 172018.0],\n",
       "       ['Nissan', 'White', 4.0, 19265.0],\n",
       "       ['Nissan', 'Blue', 4.0, 34024.0],\n",
       "       ['Honda', 'White', 4.0, 56534.0],\n",
       "       ['Toyota', 'White', 4.0, 22257.0],\n",
       "       ['Toyota', 'Missing', 4.0, 192890.0],\n",
       "       ['Toyota', 'Green', 4.0, 133706.16853932585],\n",
       "       ['Toyota', 'Black', 4.0, 93054.0],\n",
       "       ['Honda', 'Blue', 4.0, 31677.0],\n",
       "       ['Toyota', 'Blue', 4.0, 222542.0],\n",
       "       ['Nissan', 'Blue', 4.0, 179666.0],\n",
       "       ['Toyota', 'Black', 4.0, 86696.0],\n",
       "       ['Toyota', 'Blue', 4.0, 240627.0],\n",
       "       ['Toyota', 'Green', 4.0, 109868.0],\n",
       "       ['Toyota', 'White', 4.0, 119439.0],\n",
       "       ['Toyota', 'Blue', 4.0, 85473.0],\n",
       "       ['Nissan', 'White', 4.0, 82429.0],\n",
       "       ['Nissan', 'Blue', 4.0, 133706.16853932585],\n",
       "       ['Missing', 'Blue', 4.0, 179468.0],\n",
       "       ['Toyota', 'White', 4.0, 216647.0],\n",
       "       ['Honda', 'Black', 4.0, 237861.0],\n",
       "       ['Nissan', 'White', 4.0, 123121.0],\n",
       "       ['Honda', 'Blue', 4.0, 50417.0],\n",
       "       ['Toyota', 'Blue', 4.0, 229110.0],\n",
       "       ['Toyota', 'Blue', 4.0, 29856.0],\n",
       "       ['Nissan', 'White', 4.0, 43540.0],\n",
       "       ['Nissan', 'Black', 4.0, 239908.0],\n",
       "       ['Missing', 'White', 4.0, 103728.0],\n",
       "       ['Missing', 'White', 4.0, 138294.0],\n",
       "       ['Nissan', 'Red', 4.0, 124112.0],\n",
       "       ['Nissan', 'Red', 4.0, 166895.0],\n",
       "       ['Nissan', 'White', 3.0, 133706.16853932585],\n",
       "       ['Toyota', 'White', 4.0, 177571.0],\n",
       "       ['Toyota', 'White', 4.0, 227387.0],\n",
       "       ['Toyota', 'White', 4.0, 133706.16853932585],\n",
       "       ['Toyota', 'Red', 4.0, 157432.0],\n",
       "       ['Honda', 'Blue', 4.0, 68223.0],\n",
       "       ['Honda', 'Blue', 4.0, 84719.0],\n",
       "       ['Honda', 'Green', 4.0, 47019.0],\n",
       "       ['Toyota', 'Black', 4.0, 201753.0],\n",
       "       ['Missing', 'Blue', 4.0, 96363.0],\n",
       "       ['Nissan', 'White', 4.0, 48730.0],\n",
       "       ['Honda', 'Green', 4.0, 94062.0],\n",
       "       ['Honda', 'Red', 4.0, 111727.0],\n",
       "       ['Missing', 'Blue', 4.0, 73926.0],\n",
       "       ['Nissan', 'Red', 4.0, 61892.0],\n",
       "       ['Nissan', 'Blue', 4.0, 124116.0],\n",
       "       ['Nissan', 'Blue', 4.0, 111256.0],\n",
       "       ['Missing', 'Blue', 4.0, 216250.0],\n",
       "       ['Missing', 'Black', 4.0, 189001.0],\n",
       "       ['Honda', 'White', 4.0, 134949.0],\n",
       "       ['BMW', 'White', 5.0, 29534.0],\n",
       "       ['Toyota', 'White', 4.0, 110362.0],\n",
       "       ['Honda', 'White', 4.0, 148238.0],\n",
       "       ['Toyota', 'Blue', 4.0, 193276.0],\n",
       "       ['Toyota', 'Green', 4.0, 132714.0],\n",
       "       ['Toyota', 'Blue', 4.0, 23241.0],\n",
       "       ['Toyota', 'Red', 4.0, 190211.0],\n",
       "       ['Toyota', 'White', 4.0, 112968.0],\n",
       "       ['Nissan', 'White', 4.0, 192747.0],\n",
       "       ['Honda', 'Missing', 4.0, 118609.0],\n",
       "       ['Toyota', 'Blue', 4.0, 63975.0],\n",
       "       ['Honda', 'White', 4.0, 56523.0],\n",
       "       ['Honda', 'Green', 4.0, 133706.16853932585],\n",
       "       ['Honda', 'White', 4.0, 214405.0],\n",
       "       ['Toyota', 'Green', 4.0, 221725.0],\n",
       "       ['Honda', 'Blue', 4.0, 196835.0],\n",
       "       ['Honda', 'Red', 4.0, 47933.0],\n",
       "       ['Honda', 'White', 4.0, 219635.0],\n",
       "       ['Honda', 'White', 4.0, 133706.16853932585],\n",
       "       ['Nissan', 'Blue', 4.0, 189182.0],\n",
       "       ['Toyota', 'Blue', 4.0, 213893.0],\n",
       "       ['Toyota', 'Black', 4.0, 35820.0],\n",
       "       ['BMW', 'Red', 5.0, 131587.0],\n",
       "       ['Honda', 'White', 4.0, 178134.0],\n",
       "       ['Honda', 'Missing', 4.0, 133706.16853932585],\n",
       "       ['Honda', 'Red', 4.0, 98523.0],\n",
       "       ['BMW', 'White', 5.0, 23996.0],\n",
       "       ['Toyota', 'White', 4.0, 239760.0],\n",
       "       ['Toyota', 'White', 4.0, 183368.0],\n",
       "       ['Toyota', 'White', 4.0, 134862.0],\n",
       "       ['Honda', 'Green', 4.0, 81764.0],\n",
       "       ['Toyota', 'Green', 4.0, 151291.0],\n",
       "       ['BMW', 'Blue', 3.0, 130817.0],\n",
       "       ['Honda', 'Green', 4.0, 208651.0],\n",
       "       ['Nissan', 'Missing', 4.0, 206073.0],\n",
       "       ['Toyota', 'White', 4.0, 164093.0],\n",
       "       ['Honda', 'Blue', 4.0, 133706.16853932585],\n",
       "       ['Honda', 'White', 4.0, 136340.0],\n",
       "       ['Honda', 'Blue', 4.0, 217068.0],\n",
       "       ['Toyota', 'Red', 4.0, 148518.0],\n",
       "       ['Honda', 'White', 4.0, 29514.0],\n",
       "       ['Toyota', 'White', 4.0, 72118.0],\n",
       "       ['BMW', 'Red', 5.0, 208124.0],\n",
       "       ['Honda', 'White', 4.0, 171260.0],\n",
       "       ['BMW', 'Black', 5.0, 204746.0],\n",
       "       ['Missing', 'Missing', 4.0, 61876.0],\n",
       "       ['Honda', 'White', 4.0, 28791.0],\n",
       "       ['Honda', 'Black', 4.0, 61120.0],\n",
       "       ['Toyota', 'Black', 4.0, 121160.0],\n",
       "       ['Toyota', 'Blue', 4.0, 223390.0],\n",
       "       ['Missing', 'White', 3.0, 133069.0],\n",
       "       ['Toyota', 'White', 4.0, 46848.0],\n",
       "       ['Toyota', 'Red', 4.0, 86284.0],\n",
       "       ['Toyota', 'White', 4.0, 231683.0],\n",
       "       ['Toyota', 'Black', 4.0, 71463.0],\n",
       "       ['BMW', 'Black', 5.0, 181572.0],\n",
       "       ['Toyota', 'White', 4.0, 221050.0],\n",
       "       ['Honda', 'White', 4.0, 192655.0],\n",
       "       ['Toyota', 'Blue', 4.0, 200597.0],\n",
       "       ['Toyota', 'Green', 4.0, 180760.0],\n",
       "       ['BMW', 'White', 5.0, 102773.0],\n",
       "       ['Honda', 'White', 4.0, 25729.0],\n",
       "       ['Honda', 'White', 4.0, 237209.0],\n",
       "       ['Missing', 'Blue', 4.0, 23545.0],\n",
       "       ['BMW', 'Blue', 5.0, 31277.0],\n",
       "       ['BMW', 'White', 5.0, 26531.0],\n",
       "       ['Honda', 'White', 4.0, 82518.0],\n",
       "       ['Honda', 'White', 4.0, 152212.0],\n",
       "       ['Toyota', 'Red', 4.0, 133195.0],\n",
       "       ['Toyota', 'Blue', 4.0, 232912.0],\n",
       "       ['Toyota', 'White', 4.0, 124205.0],\n",
       "       ['Honda', 'Missing', 4.0, 144093.0],\n",
       "       ['Toyota', 'Black', 4.0, 72287.0],\n",
       "       ['Honda', 'Blue', 4.0, 78153.0],\n",
       "       ['Toyota', 'Blue', 4.0, 89641.0],\n",
       "       ['Honda', 'Missing', 4.0, 213793.0],\n",
       "       ['Nissan', 'Green', 3.0, 76610.0],\n",
       "       ['Toyota', 'White', 4.0, 81656.0],\n",
       "       ['Nissan', 'White', 3.0, 133706.16853932585],\n",
       "       ['Toyota', 'Blue', 4.0, 238425.0],\n",
       "       ['Missing', 'Black', 4.0, 224479.0],\n",
       "       ['BMW', 'Red', 5.0, 156064.0],\n",
       "       ['Honda', 'Black', 4.0, 27788.0],\n",
       "       ['Honda', 'White', 4.0, 133706.16853932585],\n",
       "       ['Toyota', 'Red', 4.0, 49807.0],\n",
       "       ['Honda', 'White', 4.0, 113704.0],\n",
       "       ['Toyota', 'White', 4.0, 149989.0],\n",
       "       ['BMW', 'White', 5.0, 178796.0],\n",
       "       ['Honda', 'White', 4.0, 21393.0],\n",
       "       ['Honda', 'Black', 4.0, 143649.0],\n",
       "       ['Honda', 'White', 4.0, 34822.0],\n",
       "       ['Honda', 'White', 4.0, 136279.0],\n",
       "       ['BMW', 'Blue', 5.0, 212644.0],\n",
       "       ['Toyota', 'White', 4.0, 223727.0],\n",
       "       ['Nissan', 'White', 4.0, 24420.0],\n",
       "       ['Honda', 'White', 4.0, 161712.0],\n",
       "       ['Toyota', 'Blue', 4.0, 165301.0],\n",
       "       ['Honda', 'Black', 4.0, 119033.0],\n",
       "       ['Toyota', 'Black', 4.0, 86333.0],\n",
       "       ['Toyota', 'White', 4.0, 69222.0],\n",
       "       ['BMW', 'White', 5.0, 69066.0],\n",
       "       ['Honda', 'White', 4.0, 178351.0],\n",
       "       ['Nissan', 'White', 3.0, 213449.0],\n",
       "       ['Nissan', 'Red', 3.0, 196130.0],\n",
       "       ['BMW', 'White', 5.0, 85739.0],\n",
       "       ['BMW', 'Blue', 3.0, 163322.0],\n",
       "       ['Nissan', 'White', 4.0, 195056.0],\n",
       "       ['Honda', 'Green', 4.0, 165101.0],\n",
       "       ['Nissan', 'Green', 3.0, 153554.0],\n",
       "       ['Toyota', 'White', 4.0, 108569.0],\n",
       "       ['BMW', 'Black', 3.0, 201190.0],\n",
       "       ['Honda', 'White', 4.0, 61163.0]], dtype=object)"
      ]
     },
     "execution_count": 18,
     "metadata": {},
     "output_type": "execute_result"
    }
   ],
   "source": [
    "Filled_test"
   ]
  },
  {
   "cell_type": "code",
   "execution_count": 19,
   "metadata": {},
   "outputs": [
    {
     "data": {
      "text/html": [
       "<div>\n",
       "<style scoped>\n",
       "    .dataframe tbody tr th:only-of-type {\n",
       "        vertical-align: middle;\n",
       "    }\n",
       "\n",
       "    .dataframe tbody tr th {\n",
       "        vertical-align: top;\n",
       "    }\n",
       "\n",
       "    .dataframe thead th {\n",
       "        text-align: right;\n",
       "    }\n",
       "</style>\n",
       "<table border=\"1\" class=\"dataframe\">\n",
       "  <thead>\n",
       "    <tr style=\"text-align: right;\">\n",
       "      <th></th>\n",
       "      <th>Make</th>\n",
       "      <th>Colour</th>\n",
       "      <th>Doors</th>\n",
       "      <th>Odometer (KM)</th>\n",
       "    </tr>\n",
       "  </thead>\n",
       "  <tbody>\n",
       "    <tr>\n",
       "      <th>0</th>\n",
       "      <td>Honda</td>\n",
       "      <td>White</td>\n",
       "      <td>4</td>\n",
       "      <td>71934</td>\n",
       "    </tr>\n",
       "    <tr>\n",
       "      <th>1</th>\n",
       "      <td>Toyota</td>\n",
       "      <td>Red</td>\n",
       "      <td>4</td>\n",
       "      <td>162665</td>\n",
       "    </tr>\n",
       "    <tr>\n",
       "      <th>2</th>\n",
       "      <td>Honda</td>\n",
       "      <td>White</td>\n",
       "      <td>4</td>\n",
       "      <td>42844</td>\n",
       "    </tr>\n",
       "    <tr>\n",
       "      <th>3</th>\n",
       "      <td>Honda</td>\n",
       "      <td>White</td>\n",
       "      <td>4</td>\n",
       "      <td>195829</td>\n",
       "    </tr>\n",
       "    <tr>\n",
       "      <th>4</th>\n",
       "      <td>Honda</td>\n",
       "      <td>Blue</td>\n",
       "      <td>4</td>\n",
       "      <td>219217</td>\n",
       "    </tr>\n",
       "    <tr>\n",
       "      <th>...</th>\n",
       "      <td>...</td>\n",
       "      <td>...</td>\n",
       "      <td>...</td>\n",
       "      <td>...</td>\n",
       "    </tr>\n",
       "    <tr>\n",
       "      <th>755</th>\n",
       "      <td>Toyota</td>\n",
       "      <td>Missing</td>\n",
       "      <td>4</td>\n",
       "      <td>218803</td>\n",
       "    </tr>\n",
       "    <tr>\n",
       "      <th>756</th>\n",
       "      <td>BMW</td>\n",
       "      <td>Blue</td>\n",
       "      <td>5</td>\n",
       "      <td>245427</td>\n",
       "    </tr>\n",
       "    <tr>\n",
       "      <th>757</th>\n",
       "      <td>Toyota</td>\n",
       "      <td>White</td>\n",
       "      <td>4</td>\n",
       "      <td>196225</td>\n",
       "    </tr>\n",
       "    <tr>\n",
       "      <th>758</th>\n",
       "      <td>Honda</td>\n",
       "      <td>Blue</td>\n",
       "      <td>4</td>\n",
       "      <td>133117</td>\n",
       "    </tr>\n",
       "    <tr>\n",
       "      <th>759</th>\n",
       "      <td>Honda</td>\n",
       "      <td>Missing</td>\n",
       "      <td>4</td>\n",
       "      <td>150582</td>\n",
       "    </tr>\n",
       "  </tbody>\n",
       "</table>\n",
       "<p>760 rows × 4 columns</p>\n",
       "</div>"
      ],
      "text/plain": [
       "       Make   Colour Doors Odometer (KM)\n",
       "0     Honda    White     4         71934\n",
       "1    Toyota      Red     4        162665\n",
       "2     Honda    White     4         42844\n",
       "3     Honda    White     4        195829\n",
       "4     Honda     Blue     4        219217\n",
       "..      ...      ...   ...           ...\n",
       "755  Toyota  Missing     4        218803\n",
       "756     BMW     Blue     5        245427\n",
       "757  Toyota    White     4        196225\n",
       "758   Honda     Blue     4        133117\n",
       "759   Honda  Missing     4        150582\n",
       "\n",
       "[760 rows x 4 columns]"
      ]
     },
     "execution_count": 19,
     "metadata": {},
     "output_type": "execute_result"
    }
   ],
   "source": [
    "Filled_x_train=pd.DataFrame(Filled_train,columns=['Make','Colour','Doors','Odometer (KM)'])\n",
    "Filled_x_train"
   ]
  },
  {
   "cell_type": "code",
   "execution_count": 20,
   "metadata": {},
   "outputs": [
    {
     "data": {
      "text/html": [
       "<div>\n",
       "<style scoped>\n",
       "    .dataframe tbody tr th:only-of-type {\n",
       "        vertical-align: middle;\n",
       "    }\n",
       "\n",
       "    .dataframe tbody tr th {\n",
       "        vertical-align: top;\n",
       "    }\n",
       "\n",
       "    .dataframe thead th {\n",
       "        text-align: right;\n",
       "    }\n",
       "</style>\n",
       "<table border=\"1\" class=\"dataframe\">\n",
       "  <thead>\n",
       "    <tr style=\"text-align: right;\">\n",
       "      <th></th>\n",
       "      <th>Make</th>\n",
       "      <th>Colour</th>\n",
       "      <th>Doors</th>\n",
       "      <th>Odometer (KM)</th>\n",
       "    </tr>\n",
       "  </thead>\n",
       "  <tbody>\n",
       "    <tr>\n",
       "      <th>0</th>\n",
       "      <td>Toyota</td>\n",
       "      <td>Blue</td>\n",
       "      <td>4</td>\n",
       "      <td>99761</td>\n",
       "    </tr>\n",
       "    <tr>\n",
       "      <th>1</th>\n",
       "      <td>Toyota</td>\n",
       "      <td>Black</td>\n",
       "      <td>4</td>\n",
       "      <td>17975</td>\n",
       "    </tr>\n",
       "    <tr>\n",
       "      <th>2</th>\n",
       "      <td>Honda</td>\n",
       "      <td>Blue</td>\n",
       "      <td>4</td>\n",
       "      <td>197664</td>\n",
       "    </tr>\n",
       "    <tr>\n",
       "      <th>3</th>\n",
       "      <td>Nissan</td>\n",
       "      <td>Green</td>\n",
       "      <td>4</td>\n",
       "      <td>235589</td>\n",
       "    </tr>\n",
       "    <tr>\n",
       "      <th>4</th>\n",
       "      <td>Honda</td>\n",
       "      <td>Black</td>\n",
       "      <td>4</td>\n",
       "      <td>231659</td>\n",
       "    </tr>\n",
       "    <tr>\n",
       "      <th>...</th>\n",
       "      <td>...</td>\n",
       "      <td>...</td>\n",
       "      <td>...</td>\n",
       "      <td>...</td>\n",
       "    </tr>\n",
       "    <tr>\n",
       "      <th>185</th>\n",
       "      <td>Honda</td>\n",
       "      <td>Green</td>\n",
       "      <td>4</td>\n",
       "      <td>165101</td>\n",
       "    </tr>\n",
       "    <tr>\n",
       "      <th>186</th>\n",
       "      <td>Nissan</td>\n",
       "      <td>Green</td>\n",
       "      <td>3</td>\n",
       "      <td>153554</td>\n",
       "    </tr>\n",
       "    <tr>\n",
       "      <th>187</th>\n",
       "      <td>Toyota</td>\n",
       "      <td>White</td>\n",
       "      <td>4</td>\n",
       "      <td>108569</td>\n",
       "    </tr>\n",
       "    <tr>\n",
       "      <th>188</th>\n",
       "      <td>BMW</td>\n",
       "      <td>Black</td>\n",
       "      <td>3</td>\n",
       "      <td>201190</td>\n",
       "    </tr>\n",
       "    <tr>\n",
       "      <th>189</th>\n",
       "      <td>Honda</td>\n",
       "      <td>White</td>\n",
       "      <td>4</td>\n",
       "      <td>61163</td>\n",
       "    </tr>\n",
       "  </tbody>\n",
       "</table>\n",
       "<p>190 rows × 4 columns</p>\n",
       "</div>"
      ],
      "text/plain": [
       "       Make Colour Doors Odometer (KM)\n",
       "0    Toyota   Blue     4         99761\n",
       "1    Toyota  Black     4         17975\n",
       "2     Honda   Blue     4        197664\n",
       "3    Nissan  Green     4        235589\n",
       "4     Honda  Black     4        231659\n",
       "..      ...    ...   ...           ...\n",
       "185   Honda  Green     4        165101\n",
       "186  Nissan  Green     3        153554\n",
       "187  Toyota  White     4        108569\n",
       "188     BMW  Black     3        201190\n",
       "189   Honda  White     4         61163\n",
       "\n",
       "[190 rows x 4 columns]"
      ]
     },
     "execution_count": 20,
     "metadata": {},
     "output_type": "execute_result"
    }
   ],
   "source": [
    "Filled_x_test=pd.DataFrame(Filled_test,columns=['Make','Colour','Doors','Odometer (KM)'])\n",
    "Filled_x_test"
   ]
  },
  {
   "cell_type": "code",
   "execution_count": 21,
   "metadata": {},
   "outputs": [
    {
     "data": {
      "text/plain": [
       "Make             0\n",
       "Colour           0\n",
       "Doors            0\n",
       "Odometer (KM)    0\n",
       "dtype: int64"
      ]
     },
     "execution_count": 21,
     "metadata": {},
     "output_type": "execute_result"
    }
   ],
   "source": [
    "Filled_x_train.isnull().sum()"
   ]
  },
  {
   "cell_type": "code",
   "execution_count": 22,
   "metadata": {},
   "outputs": [
    {
     "data": {
      "text/plain": [
       "Make             0\n",
       "Colour           0\n",
       "Doors            0\n",
       "Odometer (KM)    0\n",
       "dtype: int64"
      ]
     },
     "execution_count": 22,
     "metadata": {},
     "output_type": "execute_result"
    }
   ],
   "source": [
    "Filled_x_test.isnull().sum()"
   ]
  },
  {
   "cell_type": "code",
   "execution_count": 23,
   "metadata": {},
   "outputs": [
    {
     "data": {
      "text/plain": [
       "Make             47\n",
       "Colour           46\n",
       "Odometer (KM)    48\n",
       "Doors            47\n",
       "Price             0\n",
       "dtype: int64"
      ]
     },
     "execution_count": 23,
     "metadata": {},
     "output_type": "execute_result"
    }
   ],
   "source": [
    "Data.isnull().sum()"
   ]
  },
  {
   "cell_type": "code",
   "execution_count": 24,
   "metadata": {},
   "outputs": [],
   "source": [
    "from sklearn.preprocessing import OneHotEncoder\n",
    "OHE=OneHotEncoder()"
   ]
  },
  {
   "cell_type": "code",
   "execution_count": 25,
   "metadata": {},
   "outputs": [],
   "source": [
    "Categorical_Feature=['Make','Colour','Doors']"
   ]
  },
  {
   "cell_type": "code",
   "execution_count": 26,
   "metadata": {},
   "outputs": [],
   "source": [
    "Transformer=ColumnTransformer([('One Hot',OHE,Categorical_Feature)],remainder='passthrough')\n",
    "Transformed_x_train=Transformer.fit_transform(Filled_x_train)\n",
    "Transformed_x_test=Transformer.fit_transform(Filled_x_test)"
   ]
  },
  {
   "cell_type": "code",
   "execution_count": 27,
   "metadata": {},
   "outputs": [
    {
     "data": {
      "text/plain": [
       "array([[0.00000e+00, 1.00000e+00, 0.00000e+00, ..., 1.00000e+00,\n",
       "        0.00000e+00, 7.19340e+04],\n",
       "       [0.00000e+00, 0.00000e+00, 0.00000e+00, ..., 1.00000e+00,\n",
       "        0.00000e+00, 1.62665e+05],\n",
       "       [0.00000e+00, 1.00000e+00, 0.00000e+00, ..., 1.00000e+00,\n",
       "        0.00000e+00, 4.28440e+04],\n",
       "       ...,\n",
       "       [0.00000e+00, 0.00000e+00, 0.00000e+00, ..., 1.00000e+00,\n",
       "        0.00000e+00, 1.96225e+05],\n",
       "       [0.00000e+00, 1.00000e+00, 0.00000e+00, ..., 1.00000e+00,\n",
       "        0.00000e+00, 1.33117e+05],\n",
       "       [0.00000e+00, 1.00000e+00, 0.00000e+00, ..., 1.00000e+00,\n",
       "        0.00000e+00, 1.50582e+05]])"
      ]
     },
     "execution_count": 27,
     "metadata": {},
     "output_type": "execute_result"
    }
   ],
   "source": [
    "Transformed_x_train.toarray()"
   ]
  },
  {
   "cell_type": "code",
   "execution_count": 28,
   "metadata": {},
   "outputs": [
    {
     "data": {
      "text/plain": [
       "array([[0.00000e+00, 0.00000e+00, 0.00000e+00, ..., 1.00000e+00,\n",
       "        0.00000e+00, 9.97610e+04],\n",
       "       [0.00000e+00, 0.00000e+00, 0.00000e+00, ..., 1.00000e+00,\n",
       "        0.00000e+00, 1.79750e+04],\n",
       "       [0.00000e+00, 1.00000e+00, 0.00000e+00, ..., 1.00000e+00,\n",
       "        0.00000e+00, 1.97664e+05],\n",
       "       ...,\n",
       "       [0.00000e+00, 0.00000e+00, 0.00000e+00, ..., 1.00000e+00,\n",
       "        0.00000e+00, 1.08569e+05],\n",
       "       [1.00000e+00, 0.00000e+00, 0.00000e+00, ..., 0.00000e+00,\n",
       "        0.00000e+00, 2.01190e+05],\n",
       "       [0.00000e+00, 1.00000e+00, 0.00000e+00, ..., 1.00000e+00,\n",
       "        0.00000e+00, 6.11630e+04]])"
      ]
     },
     "execution_count": 28,
     "metadata": {},
     "output_type": "execute_result"
    }
   ],
   "source": [
    "Transformed_x_test.toarray()"
   ]
  },
  {
   "cell_type": "code",
   "execution_count": 29,
   "metadata": {},
   "outputs": [],
   "source": [
    "from sklearn.ensemble import RandomForestRegressor\n",
    "RFC=RandomForestRegressor()"
   ]
  },
  {
   "cell_type": "code",
   "execution_count": 30,
   "metadata": {},
   "outputs": [
    {
     "data": {
      "text/plain": [
       "RandomForestRegressor()"
      ]
     },
     "execution_count": 30,
     "metadata": {},
     "output_type": "execute_result"
    }
   ],
   "source": [
    "RFC.fit(Transformed_x_train,y_train)"
   ]
  },
  {
   "cell_type": "code",
   "execution_count": 31,
   "metadata": {},
   "outputs": [
    {
     "data": {
      "text/plain": [
       "0.23382408429281998"
      ]
     },
     "execution_count": 31,
     "metadata": {},
     "output_type": "execute_result"
    }
   ],
   "source": [
    "RFC.score(Transformed_x_test,y_test)"
   ]
  },
  {
   "cell_type": "code",
   "execution_count": null,
   "metadata": {},
   "outputs": [],
   "source": []
  }
 ],
 "metadata": {
  "kernelspec": {
   "display_name": "Python 3",
   "language": "python",
   "name": "python3"
  },
  "language_info": {
   "codemirror_mode": {
    "name": "ipython",
    "version": 3
   },
   "file_extension": ".py",
   "mimetype": "text/x-python",
   "name": "python",
   "nbconvert_exporter": "python",
   "pygments_lexer": "ipython3",
   "version": "3.7.6"
  }
 },
 "nbformat": 4,
 "nbformat_minor": 4
}
